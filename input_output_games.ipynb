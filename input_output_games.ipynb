{
 "cells": [
  {
   "cell_type": "code",
   "execution_count": 91,
   "id": "6dd5733e",
   "metadata": {},
   "outputs": [
    {
     "name": "stdout",
     "output_type": "stream",
     "text": [
      "Artificial Intelligence : Hello! What is your name?\n",
      "\t\t Player : f\n",
      "\n",
      "\n",
      "Artificial Intelligence : Hello f, Nice to meet you.\n",
      "\n",
      "\n",
      "Artificial Intelligence : f, would you like to play a guessing game?\n",
      "\t\t\t\t'Yes' or 'No':\n",
      "\t\t Player : yes\n",
      "\n",
      "\n",
      "Artificial Intelligence : Great then.\n",
      "\t\t\t  You will get 5 guesses.\n",
      "\t\t\t  I am thinking of a number between 1 and 20!\n",
      "\n",
      "Artificial Intelligence : Take a guess:\n",
      "  \n",
      "17\n",
      "Artificial Intelligence : Correct!!!! Great buddy!! You did it in 1 guess!!\n"
     ]
    }
   ],
   "source": [
    "import random\n",
    "import time\n",
    "number = random.randint(1,20)\n",
    "print(\"Artificial Intelligence : Hello! What is your name?\")\n",
    "name = input(\"\\t\\t Player : \")\n",
    "print(\"\\n\")\n",
    "print(f\"Artificial Intelligence : Hello {name}, Nice to meet you.\")\n",
    "print(\"\\n\")\n",
    "time.sleep(1)\n",
    "print(f\"Artificial Intelligence : {name}, would you like to play a guessing game?\")\n",
    "Y_N = input(\"\\t\\t\\t\\t'Yes' or 'No':\\n\\t\\t Player : \")\n",
    "if Y_N == \"Yes\" or Y_N == \"yes\" or Y_N == \"Y\" or Y_N == \"y\" :\n",
    "        print(\"\\n\")\n",
    "        print(\"Artificial Intelligence : Great then.\")\n",
    "        time.sleep(1)\n",
    "        print(\"\\t\\t\\t  You will get 5 guesses.\")\n",
    "        time.sleep(1)\n",
    "        print(\"\\t\\t\\t  I am thinking of a number between 1 and 20!\\n\")\n",
    "        total_guesses = 0\n",
    "        time.sleep(1)\n",
    "        while total_guesses < 5 :\n",
    "            guess = int(input(\"Artificial Intelligence : Take a guess:\\n  \" + \"\\n\"))\n",
    "            total_guesses = total_guesses + 1\n",
    "            if guess < number :\n",
    "                print(\"Artificial Intelligence : Your input is low\")\n",
    "            if guess > number :\n",
    "                print(\"Artificial Intelligence : Your input is high\")\n",
    "            if guess == number :\n",
    "                if total_guesses == 1 :\n",
    "                    print(f\"Artificial Intelligence : Correct!!!! Great buddy!! You did it in {total_guesses} guess!!\")\n",
    "                elif total_guesses == 5 :\n",
    "                    print(f\"Artificial Intelligence : Correct!!!! Lucky fellow!! You did it in your last guess, which is number {total_guesses}!!\")\n",
    "                else :\n",
    "                    print(f\"Artificial Intelligence : Correct!!!! Great buddy!! You did it in {total_guesses} guesses!!\")\n",
    "                break\n",
    "        if guess != number :\n",
    "            print(f\"\\n\\tUh Ohh, You lost buddy. I was thinking of {number}. \\n\\n\\t Better Luck next time!\")\n",
    "elif Y_N == \"No\" or Y_N == \"no\" or Y_N == \"N\" or Y_N == \"n\" :\n",
    "    print(\"Artificial Intelligence : Oh, Thats bad. See you soon my friend. Bye!\")\n",
    "else :\n",
    "    print(\"Artificial Intelligence : Try again. Wrong input.\")"
   ]
  },
  {
   "cell_type": "code",
   "execution_count": 92,
   "id": "a6c13697",
   "metadata": {},
   "outputs": [
    {
     "name": "stdout",
     "output_type": "stream",
     "text": [
      "You are in a land full of dragons. In front of you,\n",
      "You see 2 caves. In one cave, the dragon is friendly\n",
      "and will share his treasure with you. The other dragon\n",
      "is greedy and hungry, and will eat you on sight.\n",
      "\n",
      "Which cave do you want to go to? (1 or 2)\n",
      "1\n",
      "You approach the cave...\n",
      "It is dark and spooky...\n",
      "A large dragon jumps out in front of you! He opens his jaws and...\n",
      "\n",
      "Gobbles you down in one bite!\n",
      "\n",
      "Do you want to play again?\n",
      "Yes or No: \n",
      " no\n",
      "\n",
      "\n"
     ]
    }
   ],
   "source": [
    "import random\n",
    "import time\n",
    "\n",
    "def displayintro() :\n",
    "    print(\"You are in a land full of dragons. In front of you,\")\n",
    "    time.sleep(1.5)\n",
    "    print(\"You see 2 caves. In one cave, the dragon is friendly\")\n",
    "    time.sleep(1.5)\n",
    "    print(\"and will share his treasure with you. The other dragon\")\n",
    "    time.sleep(1.5)\n",
    "    print(\"is greedy and hungry, and will eat you on sight.\")\n",
    "    print()\n",
    "    \n",
    "def choosecave() :\n",
    "    cave = \" \"\n",
    "    while cave != \"1\" and cave != \"2\" :\n",
    "        print(\"Which cave do you want to go to? (1 or 2)\")\n",
    "        cave = input()\n",
    "        return cave\n",
    "    \n",
    "def checkCave(chosenCave):\n",
    "    print('You approach the cave...')\n",
    "    time.sleep(2)\n",
    "    print('It is dark and spooky...')\n",
    "    time.sleep(2)\n",
    "    print('A large dragon jumps out in front of you! He opens his jaws and...')\n",
    "    print()\n",
    "    time.sleep(2)\n",
    "    friendlyCave = random.randint(1, 2)\n",
    "    if chosenCave == str(friendlyCave):\n",
    "        print('Gives you his treasure!')\n",
    "    else :     \n",
    "        print('Gobbles you down in one bite!')\n",
    "\n",
    "                                                 # Game starts now. #\n",
    "\n",
    "playagain = \"yes\"\n",
    "while playagain == \"yes\" or playagain == \"y\" or playagain == \"Yes\" or playagain == \"Y\":\n",
    "    displayintro()\n",
    "    chosencave = choosecave()\n",
    "    checkCave(chosencave)\n",
    "    print()\n",
    "    print(\"Do you want to play again?\")\n",
    "    playagain = input(\"Yes or No: \\n \")\n",
    "    print()\n",
    "    print()"
   ]
  },
  {
   "cell_type": "code",
   "execution_count": 93,
   "id": "70c16016",
   "metadata": {},
   "outputs": [
    {
     "name": "stdout",
     "output_type": "stream",
     "text": [
      "What is \"5\" + \"3\" ?\n",
      "7\n",
      "Its wrong. Try again\n",
      "8\n",
      "Good, it is correct.\n"
     ]
    }
   ],
   "source": [
    "import random\n",
    "import pyinputplus as pyip\n",
    "number1 = random.randint(1,10)\n",
    "number2 = random.randint(1,10)\n",
    "print(f'What is \"{number1}\" + \"{number2}\" ?')\n",
    "answer = pyip.inputInt()\n",
    "no_of_sol = 1\n",
    "while no_of_sol < 3 : \n",
    "    if number1 + number2 == answer :\n",
    "        print(\"Good, it is correct.\")\n",
    "        break\n",
    "    else :\n",
    "        print(\"Its wrong. Try again\")\n",
    "        answer = pyip.inputInt()\n",
    "    no_of_sol = no_of_sol + 1"
   ]
  },
  {
   "cell_type": "code",
   "execution_count": 94,
   "id": "d40a4c81",
   "metadata": {},
   "outputs": [
    {
     "name": "stdout",
     "output_type": "stream",
     "text": [
      "I will flip a coin a million times. Guess how many times it will come up heads. (Press enter to begin)\n",
      "\n",
      "Out of a million times, heads came up 499068 times.\n",
      "\n",
      "It means : \tProbability of heads is 0.499068 & \n",
      "\t\tProbability of tails is 0.500932\n"
     ]
    }
   ],
   "source": [
    "import random\n",
    "print('I will flip a coin a million times. Guess how many times it will come up heads. (Press enter to begin)')\n",
    "input()\n",
    "flip = 0\n",
    "head = 0\n",
    "\n",
    "while flip < 1000000 :\n",
    "    if random.randint(0,1) == 1 :\n",
    "        head = head + 1\n",
    "    flip = flip + 1\n",
    "tail = 1000000 - head\n",
    "prob_head = head / 1000000\n",
    "prob_tail = tail / 1000000\n",
    "\n",
    "print(f\"Out of a million times, heads came up {head} times.\")\n",
    "print()\n",
    "print(f\"It means : \\tProbability of heads is {prob_head} & \\n\\t\\tProbability of tails is {prob_tail}\")\n"
   ]
  },
  {
   "cell_type": "code",
   "execution_count": 95,
   "id": "14caecad",
   "metadata": {},
   "outputs": [
    {
     "name": "stdout",
     "output_type": "stream",
     "text": [
      "Game of Chances\n",
      "Lets see the probability of different numbers showing up...\n",
      "...when we roll a die 1000 times\n",
      "\n",
      "\n",
      "\n",
      "The number of times when the dice rolled the number -> One : 167 \n",
      "\t\t\t\t\t\t       Two : 182 \n",
      "\t\t\t\t\t\t     Three : 156 \n",
      "\t\t\t\t\t\t      Four : 157 \n",
      "\t\t\t\t\t\t      Five : 167 \n",
      "\t\t\t\t\t\t       Six : 171 \n",
      "\t\t\t\t\t\t     ------------- \n",
      "\t\t\t\t\t\t     Total : 1000 \n",
      "\t\t\t\t\t\t     -------------\n",
      "\n",
      "So, the probility is : \n",
      "\t\t\t\t\t\t       One : 0.167 \n",
      "\t\t\t\t\t\t       Two : 0.182 \n",
      "\t\t\t\t\t\t     Three : 0.156 \n",
      "\t\t\t\t\t\t      Four : 0.157 \n",
      "\t\t\t\t\t\t      Five : 0.167 \n",
      "\t\t\t\t\t\t       Six : 0.171 \n",
      "\t\t\t\t\t\t     ------------- \n",
      "\t\t\t\t\t\t     Total : 1.0 \n",
      "\t\t\t\t\t\t     -------------\n",
      "\n",
      "\n",
      "\n",
      "Or, the percentage of probility is : \n",
      "\t\t\t\t\t\t       One : 16.7 % \n",
      "\t\t\t\t\t\t       Two : 18.2 % \n",
      "\t\t\t\t\t\t     Three : 15.6 % \n",
      "\t\t\t\t\t\t      Four : 15.7 % \n",
      "\t\t\t\t\t\t      Five : 16.7 % \n",
      "\t\t\t\t\t\t       Six : 17.1 % \n",
      "\t\t\t\t\t\t     ------------- \n",
      "\t\t\t\t\t\t     Total : 100.0 % \n",
      "\t\t\t\t\t\t     -------------\n",
      "\n"
     ]
    }
   ],
   "source": [
    "import random\n",
    "import time\n",
    "\n",
    "print(\"Game of Chances\")\n",
    "time.sleep(2)\n",
    "print(\"Lets see the probability of different numbers showing up...\")\n",
    "time.sleep(2)\n",
    "print(\"...when we roll a die 1000 times\")\n",
    "\n",
    "no_of_rolls = 0\n",
    "one = 0\n",
    "two = 0\n",
    "three = 0\n",
    "four = 0\n",
    "five = 0\n",
    "six = 0\n",
    "print(\"\\n\\n\")\n",
    "while no_of_rolls < 1000 :\n",
    "    dice_roll = random.randint(1,6)\n",
    "    if dice_roll == 1 :\n",
    "        one = one + 1\n",
    "    elif dice_roll == 2 :\n",
    "        two = two + 1\n",
    "    elif dice_roll == 3 :\n",
    "        three = three + 1\n",
    "    elif dice_roll == 4 :\n",
    "        four = four + 1\n",
    "    elif dice_roll == 5 :\n",
    "        five = five + 1\n",
    "    else : \n",
    "        six = six + 1\n",
    "    no_of_rolls = no_of_rolls + 1\n",
    "Total = one + two + three + four + five + six\n",
    "time.sleep(2)\n",
    "print(f\"The number of times when the dice rolled the number -> One : {one} \\n\\t\\t\\t\\t\\t\\t       Two : {two} \\n\\t\\t\\t\\t\\t\\t     Three : {three} \\n\\t\\t\\t\\t\\t\\t      Four : {four} \\n\\t\\t\\t\\t\\t\\t      Five : {five} \\n\\t\\t\\t\\t\\t\\t       Six : {six} \\n\\t\\t\\t\\t\\t\\t     ------------- \\n\\t\\t\\t\\t\\t\\t     Total : {Total} \\n\\t\\t\\t\\t\\t\\t     -------------\")\n",
    "print()\n",
    "\n",
    "prob_one = one/1000\n",
    "prob_two = two/1000\n",
    "prob_three = three/1000\n",
    "prob_four = four/1000\n",
    "prob_five = five/1000\n",
    "prob_six = six/1000\n",
    "prob_total = prob_one + prob_two + prob_three + prob_four + prob_five + prob_six\n",
    "time.sleep(2)\n",
    "print(f\"So, the probility is : \\n\\t\\t\\t\\t\\t\\t       One : {prob_one} \\n\\t\\t\\t\\t\\t\\t       Two : {prob_two} \\n\\t\\t\\t\\t\\t\\t     Three : {prob_three} \\n\\t\\t\\t\\t\\t\\t      Four : {prob_four} \\n\\t\\t\\t\\t\\t\\t      Five : {prob_five} \\n\\t\\t\\t\\t\\t\\t       Six : {prob_six} \\n\\t\\t\\t\\t\\t\\t     ------------- \\n\\t\\t\\t\\t\\t\\t     Total : {prob_total} \\n\\t\\t\\t\\t\\t\\t     -------------\")\n",
    "print(\"\\n\\n\")\n",
    "\n",
    "percent_one = prob_one * 100\n",
    "percent_two = prob_two * 100\n",
    "percent_three = prob_three * 100\n",
    "percent_four = prob_four * 100\n",
    "percent_five = prob_five * 100\n",
    "percent_six = prob_six * 100\n",
    "percent_total = percent_one + percent_two + percent_three + percent_four + percent_five + percent_six\n",
    "time.sleep(2)\n",
    "print(f\"Or, the percentage of probility is : \\n\\t\\t\\t\\t\\t\\t       One : {percent_one} % \\n\\t\\t\\t\\t\\t\\t       Two : {percent_two} % \\n\\t\\t\\t\\t\\t\\t     Three : {percent_three} % \\n\\t\\t\\t\\t\\t\\t      Four : {percent_four} % \\n\\t\\t\\t\\t\\t\\t      Five : {percent_five} % \\n\\t\\t\\t\\t\\t\\t       Six : {percent_six} % \\n\\t\\t\\t\\t\\t\\t     ------------- \\n\\t\\t\\t\\t\\t\\t     Total : {percent_total} % \\n\\t\\t\\t\\t\\t\\t     -------------\")\n",
    "print()\n",
    "\n"
   ]
  },
  {
   "cell_type": "code",
   "execution_count": 80,
   "id": "59f2900d",
   "metadata": {
    "scrolled": true
   },
   "outputs": [],
   "source": [
    "import random\n",
    "import time\n",
    "\n",
    "HANGMANPICS  = ['''\n",
    "    \n",
    "    +----+\n",
    "    |    |\n",
    "         |\n",
    "         |\n",
    "         |\n",
    "         | \n",
    "     ======''', '''\n",
    "\n",
    "    +----+\n",
    "    |    |\n",
    "    O    |\n",
    "         |\n",
    "         |\n",
    "         | \n",
    "     ======''', '''\n",
    "\n",
    "    +----+\n",
    "    |    |\n",
    "    O    |\n",
    "    |    |\n",
    "         |\n",
    "         | \n",
    "     ======''', '''\n",
    "\n",
    "    +----+\n",
    "    |    |\n",
    "    O    |\n",
    "   /|    |\n",
    "         |\n",
    "         | \n",
    "     ======''', '''\n",
    "\n",
    "    +----+\n",
    "    |    |\n",
    "    O    |\n",
    "   /|\\   |\n",
    "         |\n",
    "         | \n",
    "     ======''', '''\n",
    "\n",
    "    +----+\n",
    "    |    |\n",
    "    O    |\n",
    "   /|\\   |\n",
    "   /     |\n",
    "         | \n",
    "     ======''', '''\n",
    "\n",
    "    +----+\n",
    "    |    |\n",
    "    O    |\n",
    "   /|\\   |\n",
    "   / \\   |\n",
    "         | \n",
    "     ======''']\n",
    "\n",
    "words = 'ant baboon badger bat bear beaver camel cat clam cobra cougar coyote crow deer dog donkey duck eagle ferret fox frog goat goose hawk lion lizard llama mole monkey moose mouse mule newt otter owl panda parrot pigeon python rabbit ram rat raven rhino salmon seal shark sheep skunk sloth snake spider stork swan tiger toad trout turkey turtle weasel whale wolf wombat zebra'.split()\n",
    "\n",
    "def getRandomWord(wordList):\n",
    "    wordIndex = random.ranint()\n",
    "    wordList"
   ]
  },
  {
   "cell_type": "code",
   "execution_count": null,
   "id": "fb83b0e1",
   "metadata": {},
   "outputs": [],
   "source": []
  },
  {
   "cell_type": "code",
   "execution_count": null,
   "id": "454b500e",
   "metadata": {},
   "outputs": [],
   "source": []
  },
  {
   "cell_type": "code",
   "execution_count": 31,
   "id": "681d7f84",
   "metadata": {},
   "outputs": [],
   "source": [
    "import random\n",
    "number_cards = [\"Ace\", \"Deuce\", \"Three\", \"Four\", \"Five\", \"Six\", \"Seven\", \"Eight\", \"Nine\", \"Ten\"]\n",
    "face_cards = [\"Joker\", \"Queen\", \"King\"]\n",
    "suits = [\"Hearts\", \"Diamonds\", \"Spades\", \"CLubs\"]\n",
    "colors = [\"Black\", \"Red\"]\n",
    "deck = number_cards\n",
    "deck.extend(face_cards)"
   ]
  },
  {
   "cell_type": "code",
   "execution_count": 2,
   "id": "d2a1a487",
   "metadata": {
    "ExecuteTime": {
     "end_time": "2021-05-30T15:50:49.566551Z",
     "start_time": "2021-05-30T15:50:49.562311Z"
    }
   },
   "outputs": [
    {
     "name": "stdout",
     "output_type": "stream",
     "text": [
      "Object `working` not found.\n"
     ]
    }
   ],
   "source": [
    "is it working?"
   ]
  },
  {
   "cell_type": "code",
   "execution_count": null,
   "id": "84ea8cd8",
   "metadata": {},
   "outputs": [],
   "source": [
    "is it working"
   ]
  },
  {
   "cell_type": "code",
   "execution_count": null,
   "id": "5a3ca36e",
   "metadata": {},
   "outputs": [],
   "source": [
    "is it working"
   ]
  },
  {
   "cell_type": "code",
   "execution_count": null,
   "id": "6ad3243f",
   "metadata": {},
   "outputs": [],
   "source": []
  }
 ],
 "metadata": {
  "kernelspec": {
   "display_name": "Python 3",
   "language": "python",
   "name": "python3"
  },
  "language_info": {
   "codemirror_mode": {
    "name": "ipython",
    "version": 3
   },
   "file_extension": ".py",
   "mimetype": "text/x-python",
   "name": "python",
   "nbconvert_exporter": "python",
   "pygments_lexer": "ipython3",
   "version": "3.8.8"
  },
  "varInspector": {
   "cols": {
    "lenName": 16,
    "lenType": 16,
    "lenVar": 40
   },
   "kernels_config": {
    "python": {
     "delete_cmd_postfix": "",
     "delete_cmd_prefix": "del ",
     "library": "var_list.py",
     "varRefreshCmd": "print(var_dic_list())"
    },
    "r": {
     "delete_cmd_postfix": ") ",
     "delete_cmd_prefix": "rm(",
     "library": "var_list.r",
     "varRefreshCmd": "cat(var_dic_list()) "
    }
   },
   "types_to_exclude": [
    "module",
    "function",
    "builtin_function_or_method",
    "instance",
    "_Feature"
   ],
   "window_display": false
  }
 },
 "nbformat": 4,
 "nbformat_minor": 5
}
